{
 "cells": [
  {
   "cell_type": "code",
   "execution_count": 13,
   "metadata": {},
   "outputs": [
    {
     "name": "stdout",
     "output_type": "stream",
     "text": [
      "The autoreload extension is already loaded. To reload it, use:\n",
      "  %reload_ext autoreload\n"
     ]
    }
   ],
   "source": [
    "%load_ext autoreload\n",
    "%autoreload 2\n",
    "\n",
    "import sys \n",
    "if '../' not in sys.path: \n",
    "    sys.path.append(\"../\") \n",
    "\n",
    "import jax \n",
    "import jax.numpy as jnp \n",
    "\n",
    "import matplotlib.pyplot as plt \n",
    "\n",
    "from minimax.runners.plr_runner import PLRRunner \n",
    "from minimax.models.maze.gridworld_models import GridWorldACStudentModel\n",
    "from minimax.agents.ppo import PPOAgent\n",
    "\n",
    "from minimax.envs.maze.maze_ood import SixteenRooms\n",
    "from minimax.envs.maze.maze_mutators import (\n",
    "    flip_wall, \n",
    "    move_goal \n",
    ")\n",
    "\n",
    "from enum import IntEnum, Enum\n",
    "\n",
    "key = jax.random.PRNGKey(0)"
   ]
  },
  {
   "cell_type": "code",
   "execution_count": 55,
   "metadata": {},
   "outputs": [
    {
     "data": {
      "text/plain": [
       "Array([[3792494674,  582972539],\n",
       "       [2883479965, 3114868201],\n",
       "       [1492792183, 3245818218],\n",
       "       [2909014575,   82862454],\n",
       "       [1782947029,  692041252],\n",
       "       [1067690106, 2610540821]], dtype=uint32)"
      ]
     },
     "execution_count": 55,
     "metadata": {},
     "output_type": "execute_result"
    }
   ],
   "source": [
    "jax.random.split(key, 6)"
   ]
  },
  {
   "cell_type": "markdown",
   "metadata": {},
   "source": [
    "# Define Agent \n",
    "*** "
   ]
  },
  {
   "cell_type": "code",
   "execution_count": 65,
   "metadata": {},
   "outputs": [
    {
     "name": "stdout",
     "output_type": "stream",
     "text": [
      "32\n"
     ]
    }
   ],
   "source": [
    "model = GridWorldACStudentModel()\n",
    "agent = PPOAgent(model)\n",
    "\n",
    "runner = PLRRunner(\n",
    "    env_name = 'Maze',\n",
    "    env_kwargs = {\n",
    "        'height': 13, \n",
    "        'width': 13, \n",
    "        'n_walls': 0, \n",
    "        'replace_wall_pos': True, \n",
    "        'sample_n_walls': False, \n",
    "        'see_agent': False, \n",
    "        'normalize_obs': True, \n",
    "        'obs_agent_pos': False, \n",
    "        'max_episode_steps': 256\n",
    "    },\n",
    "    student_agents = [agent],\n",
    ")\n",
    "runner.n_parallel = 32\n",
    "print(runner.n_parallel)\n",
    "runner_state = runner.reset(key)"
   ]
  },
  {
   "cell_type": "code",
   "execution_count": 66,
   "metadata": {},
   "outputs": [
    {
     "data": {
      "text/plain": [
       "<minimax.util.rl.plr.PopPLRManager at 0x318d724d0>"
      ]
     },
     "execution_count": 66,
     "metadata": {},
     "output_type": "execute_result"
    }
   ],
   "source": [
    "runner.plr_mgr."
   ]
  },
  {
   "cell_type": "code",
   "execution_count": 33,
   "metadata": {},
   "outputs": [],
   "source": [
    "rng, *vrngs = jax.random.split(key, runner.n_students + 1)"
   ]
  },
  {
   "cell_type": "code",
   "execution_count": 56,
   "metadata": {},
   "outputs": [
    {
     "name": "stdout",
     "output_type": "stream",
     "text": [
      "(64, 2)\n"
     ]
    }
   ],
   "source": [
    "obs, state, extra = runner.benv.reset(jnp.array(vrngs), runner.n_parallel, n_eval=2) "
   ]
  },
  {
   "cell_type": "code",
   "execution_count": 57,
   "metadata": {},
   "outputs": [
    {
     "data": {
      "text/plain": [
       "((5, 5, 3), (5, 5, 3))"
      ]
     },
     "execution_count": 57,
     "metadata": {},
     "output_type": "execute_result"
    }
   ],
   "source": [
    "images = obs['image']\n",
    "\n",
    "images[0][1].shape, images[0][2].shape  "
   ]
  },
  {
   "cell_type": "code",
   "execution_count": 63,
   "metadata": {},
   "outputs": [
    {
     "data": {
      "text/plain": [
       "(Array(75, dtype=int32), Array(65, dtype=int32))"
      ]
     },
     "execution_count": 63,
     "metadata": {},
     "output_type": "execute_result"
    }
   ],
   "source": [
    "(images[0][0] ==  images[0][1]).sum(),\\\n",
    "(images[0][0] ==  images[0][2]).sum(),\\\n",
    "(images[0][0] ==  images[0][2]).sum()"
   ]
  },
  {
   "cell_type": "markdown",
   "metadata": {},
   "source": [
    "# Jax \n",
    "***"
   ]
  },
  {
   "cell_type": "code",
   "execution_count": 42,
   "metadata": {},
   "outputs": [
    {
     "data": {
      "text/plain": [
       "((1, 32, 2), (1, 32, 2))"
      ]
     },
     "execution_count": 42,
     "metadata": {},
     "output_type": "execute_result"
    }
   ],
   "source": [
    "state.agent_dir.shape, state.agent_pos.shape"
   ]
  },
  {
   "cell_type": "code",
   "execution_count": 137,
   "metadata": {},
   "outputs": [
    {
     "data": {
      "text/plain": [
       "(8, 2)"
      ]
     },
     "execution_count": 137,
     "metadata": {},
     "output_type": "execute_result"
    }
   ],
   "source": [
    "jax.random.split(key, 8).shape "
   ]
  },
  {
   "cell_type": "code",
   "execution_count": 134,
   "metadata": {},
   "outputs": [],
   "source": [
    "brngs = jnp.repeat(\n",
    "    jax.random.split(key, 8), \n",
    "    3, \n",
    "    axis=0\n",
    ")"
   ]
  },
  {
   "cell_type": "code",
   "execution_count": 135,
   "metadata": {},
   "outputs": [
    {
     "data": {
      "text/plain": [
       "(24, 2)"
      ]
     },
     "execution_count": 135,
     "metadata": {},
     "output_type": "execute_result"
    }
   ],
   "source": [
    "brngs.shape"
   ]
  },
  {
   "cell_type": "code",
   "execution_count": null,
   "metadata": {},
   "outputs": [],
   "source": []
  },
  {
   "cell_type": "code",
   "execution_count": 123,
   "metadata": {},
   "outputs": [],
   "source": [
    "class MutationWeights(Enum): \n",
    "\n",
    "    # No Operation, Flip the Wall, Move the Goal\n",
    "    NO_OP = {0:0}\n",
    "    FLIP_WALL = {1:0}\n",
    "    MOVE_GOAL = {2:0}"
   ]
  },
  {
   "cell_type": "code",
   "execution_count": 125,
   "metadata": {},
   "outputs": [
    {
     "name": "stdout",
     "output_type": "stream",
     "text": [
      "NO_OP {0: 0}\n",
      "FLIP_WALL {1: 0}\n",
      "MOVE_GOAL {2: 0}\n"
     ]
    }
   ],
   "source": [
    "for i in range(len(MutationWeights)):\n",
    "\n",
    "    print(\n",
    "        list(MutationWeights)[i].name, \n",
    "        list(MutationWeights)[i].value\n",
    "    )"
   ]
  },
  {
   "cell_type": "code",
   "execution_count": 118,
   "metadata": {},
   "outputs": [
    {
     "data": {
      "text/plain": [
       "('NO_OP', 0)"
      ]
     },
     "execution_count": 118,
     "metadata": {},
     "output_type": "execute_result"
    }
   ],
   "source": [
    "list(Mutations)[0].name, list(Mutations)[0].value"
   ]
  },
  {
   "cell_type": "code",
   "execution_count": 96,
   "metadata": {},
   "outputs": [],
   "source": [
    "maze = SixteenRooms(see_agent=True, normalize_obs=True)"
   ]
  },
  {
   "cell_type": "code",
   "execution_count": 110,
   "metadata": {},
   "outputs": [
    {
     "name": "stdout",
     "output_type": "stream",
     "text": [
      "<class 'jaxlib.xla_extension.ArrayImpl'> <class 'jaxlib.xla_extension.ArrayImpl'> False\n"
     ]
    }
   ],
   "source": [
    "obs_dict, env_state = maze.reset_env(key)\n",
    "new_state = flip_wall(jax.random.PRNGKey(200), env_state)"
   ]
  },
  {
   "cell_type": "code",
   "execution_count": 105,
   "metadata": {},
   "outputs": [
    {
     "data": {
      "text/plain": [
       "<matplotlib.image.AxesImage at 0x31cfd5150>"
      ]
     },
     "execution_count": 105,
     "metadata": {},
     "output_type": "execute_result"
    },
    {
     "data": {
      "image/png": "[encoded data removed]",
      "text/plain": [
       "<Figure size 640x480 with 2 Axes>"
      ]
     },
     "metadata": {},
     "output_type": "display_data"
    }
   ],
   "source": [
    "fig, axs = plt.subplots(ncols=2, nrows=1)\n",
    "ax = axs[0]\n",
    "ax.imshow(env_state.wall_map)\n",
    "ax = axs[1]\n",
    "ax.imshow(new_state.wall_map)"
   ]
  },
  {
   "cell_type": "code",
   "execution_count": 112,
   "metadata": {},
   "outputs": [
    {
     "name": "stdout",
     "output_type": "stream",
     "text": [
      "[11 11]\n",
      "[8 7]\n"
     ]
    }
   ],
   "source": [
    "obs_dict, env_state = maze.reset_env(key)\n",
    "new_state = move_goal(key, env_state)\n",
    "\n",
    "print(env_state.goal_pos)\n",
    "print(new_state.goal_pos)"
   ]
  },
  {
   "cell_type": "code",
   "execution_count": 63,
   "metadata": {},
   "outputs": [
    {
     "data": {
      "text/plain": [
       "Array([ True,  True,  True], dtype=bool)"
      ]
     },
     "execution_count": 63,
     "metadata": {},
     "output_type": "execute_result"
    }
   ],
   "source": [
    "x =jnp.array([1,2,3])\n",
    "y =jnp.array([1,2,3])\n",
    "jnp.equal(x,y)"
   ]
  },
  {
   "cell_type": "code",
   "execution_count": 37,
   "metadata": {},
   "outputs": [
    {
     "data": {
      "text/plain": [
       "[[1, 4, 9], [1, 4], [1, 4, 9, 16]]"
      ]
     },
     "execution_count": 37,
     "metadata": {},
     "output_type": "execute_result"
    }
   ],
   "source": [
    "list_of_lists = [\n",
    "    [1, 2, 3],\n",
    "    [1, 2],\n",
    "    [1, 2, 3, 4]\n",
    "]\n",
    "\n",
    "jax.tree_util.tree_map(lambda x: x**2, list_of_lists)"
   ]
  },
  {
   "cell_type": "code",
   "execution_count": 36,
   "metadata": {},
   "outputs": [
    {
     "data": {
      "text/plain": [
       "[[1, 2, 3, 1, 2, 3], [1, 2, 1, 2], [1, 2, 3, 4, 1, 2, 3, 4]]"
      ]
     },
     "execution_count": 36,
     "metadata": {},
     "output_type": "execute_result"
    }
   ],
   "source": [
    "x =  map(lambda x: x*2, list_of_lists)\n",
    "list(x)"
   ]
  },
  {
   "cell_type": "code",
   "execution_count": 38,
   "metadata": {},
   "outputs": [
    {
     "data": {
      "text/plain": [
       "[[-2, -3, -4], [-2, -3], [-2, -3, -4, -5]]"
      ]
     },
     "execution_count": 38,
     "metadata": {},
     "output_type": "execute_result"
    }
   ],
   "source": [
    "list_of_lists = [\n",
    "    [1, 2, 3],\n",
    "    [1, 2],\n",
    "    [1, 2, 3, 4]\n",
    "]\n",
    "\n",
    "jax.tree_util.tree_map(lambda x: ~x, list_of_lists)"
   ]
  },
  {
   "cell_type": "code",
   "execution_count": 40,
   "metadata": {},
   "outputs": [
    {
     "data": {
      "text/plain": [
       "[[0, -1, 0], [0, -1]]"
      ]
     },
     "execution_count": 40,
     "metadata": {},
     "output_type": "execute_result"
    }
   ],
   "source": [
    "list_of_lists = [\n",
    "    [False, True, False],\n",
    "    [False, True],\n",
    "]\n",
    "\n",
    "jax.tree_util.tree_map(lambda x: -x, list_of_lists)"
   ]
  },
  {
   "cell_type": "code",
   "execution_count": 45,
   "metadata": {},
   "outputs": [
    {
     "data": {
      "text/plain": [
       "-4"
      ]
     },
     "execution_count": 45,
     "metadata": {},
     "output_type": "execute_result"
    }
   ],
   "source": [
    "~3"
   ]
  },
  {
   "cell_type": "code",
   "execution_count": null,
   "metadata": {},
   "outputs": [],
   "source": []
  }
 ],
 "metadata": {
  "kernelspec": {
   "display_name": "minimax",
   "language": "python",
   "name": "python3"
  },
  "language_info": {
   "codemirror_mode": {
    "name": "ipython",
    "version": 3
   },
   "file_extension": ".py",
   "mimetype": "text/x-python",
   "name": "python",
   "nbconvert_exporter": "python",
   "pygments_lexer": "ipython3",
   "version": "3.11.9"
  }
 },
 "nbformat": 4,
 "nbformat_minor": 2
}
