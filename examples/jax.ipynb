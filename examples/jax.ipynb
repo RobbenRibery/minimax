{
 "cells": [
  {
   "cell_type": "code",
   "execution_count": 5,
   "metadata": {},
   "outputs": [],
   "source": [
    "import jax \n",
    "import random \n",
    "seed = 10 \n",
    "\n",
    "random.seed(seed)"
   ]
  },
  {
   "cell_type": "code",
   "execution_count": 15,
   "metadata": {},
   "outputs": [],
   "source": [
    "rng, *nrng = jax.random.split(jax.random.PRNGKey(seed),10)\n"
   ]
  },
  {
   "cell_type": "code",
   "execution_count": 18,
   "metadata": {},
   "outputs": [
    {
     "data": {
      "text/plain": [
       "(Array([2720311024, 2154773759], dtype=uint32),\n",
       " [Array([2796910426,  530778156], dtype=uint32),\n",
       "  Array([4158112283, 3602491295], dtype=uint32),\n",
       "  Array([3926122778, 2613863559], dtype=uint32),\n",
       "  Array([3790819942, 3086141502], dtype=uint32),\n",
       "  Array([1793209743, 3916341072], dtype=uint32),\n",
       "  Array([1207119253,  857763959], dtype=uint32),\n",
       "  Array([3479766578, 3417820551], dtype=uint32),\n",
       "  Array([ 743104179, 2788098632], dtype=uint32),\n",
       "  Array([4121685168,  308726850], dtype=uint32)],\n",
       " jaxlib.xla_extension.ArrayImpl)"
      ]
     },
     "execution_count": 18,
     "metadata": {},
     "output_type": "execute_result"
    }
   ],
   "source": [
    "rng, nrng, type(rng)"
   ]
  },
  {
   "cell_type": "code",
   "execution_count": null,
   "metadata": {},
   "outputs": [],
   "source": []
  }
 ],
 "metadata": {
  "kernelspec": {
   "display_name": "minimax",
   "language": "python",
   "name": "python3"
  },
  "language_info": {
   "codemirror_mode": {
    "name": "ipython",
    "version": 3
   },
   "file_extension": ".py",
   "mimetype": "text/x-python",
   "name": "python",
   "nbconvert_exporter": "python",
   "pygments_lexer": "ipython3",
   "version": "3.11.9"
  }
 },
 "nbformat": 4,
 "nbformat_minor": 2
}
